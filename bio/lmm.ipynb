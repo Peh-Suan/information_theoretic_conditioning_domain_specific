{
 "cells": [
  {
   "cell_type": "code",
   "execution_count": 1,
   "metadata": {
    "vscode": {
     "languageId": "r"
    }
   },
   "outputs": [
    {
     "name": "stderr",
     "output_type": "stream",
     "text": [
      "Le chargement a n'ecessit'e le package : Matrix\n",
      "\n",
      "\n",
      "Attachement du package : 'lmerTest'\n",
      "\n",
      "\n",
      "L'objet suivant est masqu'e depuis 'package:lme4':\n",
      "\n",
      "    lmer\n",
      "\n",
      "\n",
      "L'objet suivant est masqu'e depuis 'package:stats':\n",
      "\n",
      "    step\n",
      "\n",
      "\n",
      "\n",
      "Attachement du package : 'plotly'\n",
      "\n",
      "\n",
      "L'objet suivant est masqu'e depuis 'package:ggplot2':\n",
      "\n",
      "    last_plot\n",
      "\n",
      "\n",
      "L'objet suivant est masqu'e depuis 'package:stats':\n",
      "\n",
      "    filter\n",
      "\n",
      "\n",
      "L'objet suivant est masqu'e depuis 'package:graphics':\n",
      "\n",
      "    layout\n",
      "\n",
      "\n",
      "Le chargement a n'ecessit'e le package : nlme\n",
      "\n",
      "\n",
      "Attachement du package : 'nlme'\n",
      "\n",
      "\n",
      "L'objet suivant est masqu'e depuis 'package:lme4':\n",
      "\n",
      "    lmList\n",
      "\n",
      "\n",
      "This is mgcv 1.9-1. For overview type 'help(\"mgcv-package\")'.\n",
      "\n",
      "Le chargement a n'ecessit'e le package : carData\n",
      "\n",
      "This is DHARMa 0.4.7. For overview type '?DHARMa'. For recent changes, type news(package = 'DHARMa')\n",
      "\n",
      "\n",
      "Attachement du package : 'dplyr'\n",
      "\n",
      "\n",
      "L'objet suivant est masqu'e depuis 'package:car':\n",
      "\n",
      "    recode\n",
      "\n",
      "\n",
      "L'objet suivant est masqu'e depuis 'package:nlme':\n",
      "\n",
      "    collapse\n",
      "\n",
      "\n",
      "Les objets suivants sont masqu'es depuis 'package:stats':\n",
      "\n",
      "    filter, lag\n",
      "\n",
      "\n",
      "Les objets suivants sont masqu'es depuis 'package:base':\n",
      "\n",
      "    intersect, setdiff, setequal, union\n",
      "\n",
      "\n",
      "-- \u001b[1mAttaching core tidyverse packages\u001b[22m ------------------------ tidyverse 2.0.0 --\n",
      "\u001b[32mv\u001b[39m \u001b[34mforcats  \u001b[39m 1.0.0     \u001b[32mv\u001b[39m \u001b[34mstringr  \u001b[39m 1.5.1\n",
      "\u001b[32mv\u001b[39m \u001b[34mlubridate\u001b[39m 1.9.4     \u001b[32mv\u001b[39m \u001b[34mtibble   \u001b[39m 3.2.1\n",
      "\u001b[32mv\u001b[39m \u001b[34mpurrr    \u001b[39m 1.0.2     \u001b[32mv\u001b[39m \u001b[34mtidyr    \u001b[39m 1.3.1\n",
      "\u001b[32mv\u001b[39m \u001b[34mreadr    \u001b[39m 2.1.5     \n",
      "-- \u001b[1mConflicts\u001b[22m ------------------------------------------ tidyverse_conflicts() --\n",
      "\u001b[31mx\u001b[39m \u001b[34mdplyr\u001b[39m::\u001b[32mcollapse()\u001b[39m masks \u001b[34mnlme\u001b[39m::collapse()\n",
      "\u001b[31mx\u001b[39m \u001b[34mtidyr\u001b[39m::\u001b[32mexpand()\u001b[39m   masks \u001b[34mMatrix\u001b[39m::expand()\n",
      "\u001b[31mx\u001b[39m \u001b[34mdplyr\u001b[39m::\u001b[32mfilter()\u001b[39m   masks \u001b[34mplotly\u001b[39m::filter(), \u001b[34mstats\u001b[39m::filter()\n",
      "\u001b[31mx\u001b[39m \u001b[34mdplyr\u001b[39m::\u001b[32mlag()\u001b[39m      masks \u001b[34mstats\u001b[39m::lag()\n",
      "\u001b[31mx\u001b[39m \u001b[34mtidyr\u001b[39m::\u001b[32mpack()\u001b[39m     masks \u001b[34mMatrix\u001b[39m::pack()\n",
      "\u001b[31mx\u001b[39m \u001b[34mdplyr\u001b[39m::\u001b[32mrecode()\u001b[39m   masks \u001b[34mcar\u001b[39m::recode()\n",
      "\u001b[31mx\u001b[39m \u001b[34mpurrr\u001b[39m::\u001b[32msome()\u001b[39m     masks \u001b[34mcar\u001b[39m::some()\n",
      "\u001b[31mx\u001b[39m \u001b[34mtidyr\u001b[39m::\u001b[32munpack()\u001b[39m   masks \u001b[34mMatrix\u001b[39m::unpack()\n",
      "\u001b[36mi\u001b[39m Use the conflicted package (\u001b[3m\u001b[34m<http://conflicted.r-lib.org/>\u001b[39m\u001b[23m) to force all conflicts to become errors\n",
      "Le chargement a n'ecessit'e le package : plotfunctions\n",
      "\n",
      "\n",
      "Attachement du package : 'plotfunctions'\n",
      "\n",
      "\n",
      "L'objet suivant est masqu'e depuis 'package:plotly':\n",
      "\n",
      "    add_bars\n",
      "\n",
      "\n",
      "L'objet suivant est masqu'e depuis 'package:ggplot2':\n",
      "\n",
      "    alpha\n",
      "\n",
      "\n",
      "Loaded package itsadug 2.4 (see 'help(\"itsadug\")' ).\n",
      "\n"
     ]
    }
   ],
   "source": [
    "library(lme4)\n",
    "library(lmerTest)\n",
    "library(ggplot2)\n",
    "library(plotly)\n",
    "library(parallel)\n",
    "library(MuMIn)\n",
    "library(mgcv)\n",
    "library(car)\n",
    "library(DHARMa)\n",
    "library(mgcv)\n",
    "library(dplyr)\n",
    "library(tidyverse)\n",
    "library(itsadug)\n",
    "\n",
    "residual_test <- function(model){\n",
    "hist(residuals(model), main = \"Histogram of Residuals\", xlab = \"Residuals\")\n",
    "qqnorm(residuals(model))\n",
    "qqline(residuals(model), col = \"red\")\n",
    "# shapiro.test(residuals(model))\n",
    "ks.test(residuals(model), \"pnorm\", mean = mean(residuals(model)), sd = sd(residuals(model)))}\n",
    "\n",
    "get_r2 <- function(model, data){\n",
    "  yhat <- predict(model, type = \"response\")\n",
    "  r2_tjur <- mean(yhat[data$term_type  == \"usual\"]) - mean(yhat[data$term_type  == \"bio\"])\n",
    "  print(r2_tjur)\n",
    "}"
   ]
  },
  {
   "cell_type": "code",
   "execution_count": 9,
   "metadata": {
    "vscode": {
     "languageId": "r"
    }
   },
   "outputs": [],
   "source": [
    "df <- read.csv(\"compare_surprisals.csv\")\n",
    "\n",
    "df$term_group <- as.factor(df$term_group)\n",
    "df$term <- as.factor(df$term)\n",
    "df$surprisal_semantic[is.infinite(df$surprisal_semantic)] <- NA\n",
    "df$surprisal_llm[is.infinite(df$surprisal_llm)] <- NA\n",
    "df$surprisal_pmcllama[is.infinite(df$surprisal_pmcllama)] <- NA\n",
    "df$surprisal_ngram[is.infinite(df$surprisal_ngram)] <- NA\n",
    "\n",
    "df$surprisal_semantic_z <- scale(df$surprisal_semantic, center = TRUE, scale = TRUE)\n",
    "df$surprisal_llm_z <- scale(df$surprisal_llm, center = TRUE, scale = TRUE)\n",
    "df$surprisal_pmcllama_z <- scale(df$surprisal_pmcllama, center = TRUE, scale = TRUE)\n",
    "df$surprisal_ngram_z <- scale(df$surprisal_ngram, center = TRUE, scale = TRUE)\n",
    "df$frequency <- df$frequency\n",
    "df$frequency_z <- scale(df$frequency, center = TRUE, scale = TRUE)\n",
    "df <- na.omit(df)"
   ]
  },
  {
   "cell_type": "code",
   "execution_count": 10,
   "metadata": {
    "vscode": {
     "languageId": "r"
    }
   },
   "outputs": [
    {
     "name": "stdout",
     "output_type": "stream",
     "text": [
      "      [,1]\n",
      "bio    0.5\n",
      "usual -0.5\n"
     ]
    }
   ],
   "source": [
    "df <- read.csv(\"results.csv\")\n",
    "# df$frequency <- log(df$frequency + 1)\n",
    "df$term_type <- as.factor(df$term_type)\n",
    "contrasts(df$term_type) <- c(0.5, -0.5)\n",
    "print(contrasts(df$term_type))\n",
    "df$term_group <- as.factor(df$term_group)\n",
    "df$term <- as.factor(df$term)\n",
    "df$surprisal[is.infinite(df$surprisal)] <- NA\n",
    "df <- na.omit(df)"
   ]
  },
  {
   "cell_type": "code",
   "execution_count": 18,
   "metadata": {
    "vscode": {
     "languageId": "r"
    }
   },
   "outputs": [
    {
     "data": {
      "text/plain": [
       "Generalized linear mixed model fit by maximum likelihood (Laplace\n",
       "  Approximation) [glmerMod]\n",
       " Family: binomial  ( logit )\n",
       "Formula: term_type ~ surprisal_z * frequency_z + (1 | term_group)\n",
       "   Data: df_semantic\n",
       "Control: \n",
       "glmerControl(optimizer = \"Nelder_Mead\", optCtrl = list(maxfun = 1e+06))\n",
       "\n",
       "     AIC      BIC   logLik deviance df.resid \n",
       "   654.5    690.9   -322.2    644.5    10724 \n",
       "\n",
       "Scaled residuals: \n",
       "    Min      1Q  Median      3Q     Max \n",
       "-101946       0       0       0      30 \n",
       "\n",
       "Random effects:\n",
       " Groups     Name        Variance Std.Dev.\n",
       " term_group (Intercept) 82.25    9.069   \n",
       "Number of obs: 10729, groups:  term_group, 25\n",
       "\n",
       "Fixed effects:\n",
       "                        Estimate Std. Error z value Pr(>|z|)    \n",
       "(Intercept)              0.54907    0.04654  11.799  < 2e-16 ***\n",
       "surprisal_z              0.27283    0.03948   6.911 4.83e-12 ***\n",
       "frequency_z              7.26936    0.05225 139.138  < 2e-16 ***\n",
       "surprisal_z:frequency_z -3.41611    0.03524 -96.939  < 2e-16 ***\n",
       "---\n",
       "Signif. codes:  0 '***' 0.001 '**' 0.01 '*' 0.05 '.' 0.1 ' ' 1\n",
       "\n",
       "Correlation of Fixed Effects:\n",
       "            (Intr) srprs_ frqnc_\n",
       "surprisal_z -0.061              \n",
       "frequency_z  0.058  0.025       \n",
       "srprsl_z:f_ -0.071  0.257  0.018"
      ]
     },
     "metadata": {},
     "output_type": "display_data"
    },
    {
     "name": "stderr",
     "output_type": "stream",
     "text": [
      "Warning message:\n",
      "\"the null model is only correct if all the variables it uses are identical \n",
      "to those used in fitting the original model.\"\n"
     ]
    },
    {
     "data": {
      "text/html": [
       "<table class=\"dataframe\">\n",
       "<caption>A matrix: 2 x 2 of type dbl</caption>\n",
       "<thead>\n",
       "\t<tr><th></th><th scope=col>R2m</th><th scope=col>R2c</th></tr>\n",
       "</thead>\n",
       "<tbody>\n",
       "\t<tr><th scope=row>theoretical</th><td>0.4310797</td><td>0.9781199</td></tr>\n",
       "\t<tr><th scope=row>delta</th><td>0.4235984</td><td>0.9611449</td></tr>\n",
       "</tbody>\n",
       "</table>\n"
      ],
      "text/latex": [
       "A matrix: 2 x 2 of type dbl\n",
       "\\begin{tabular}{r|ll}\n",
       "  & R2m & R2c\\\\\n",
       "\\hline\n",
       "\ttheoretical & 0.4310797 & 0.9781199\\\\\n",
       "\tdelta & 0.4235984 & 0.9611449\\\\\n",
       "\\end{tabular}\n"
      ],
      "text/markdown": [
       "\n",
       "A matrix: 2 x 2 of type dbl\n",
       "\n",
       "| <!--/--> | R2m | R2c |\n",
       "|---|---|---|\n",
       "| theoretical | 0.4310797 | 0.9781199 |\n",
       "| delta | 0.4235984 | 0.9611449 |\n",
       "\n"
      ],
      "text/plain": [
       "            R2m       R2c      \n",
       "theoretical 0.4310797 0.9781199\n",
       "delta       0.4235984 0.9611449"
      ]
     },
     "metadata": {},
     "output_type": "display_data"
    }
   ],
   "source": [
    "df_semantic <- df[df$surprisal_type==\"semantic\",]\n",
    "df_semantic$frequency_z <- scale(df_semantic$frequency)\n",
    "df_semantic$surprisal_z <- scale(df_semantic$surprisal)\n",
    "\n",
    "model_semantic <- glmer(term_type ~ surprisal_z*frequency_z + (1 | term_group), data = df_semantic, family=binomial, control = glmerControl(optimizer = \"Nelder_Mead\", optCtrl = list(maxfun = 1000000)))\n",
    "summary(model_semantic)\n",
    "r.squaredGLMM(model_semantic)"
   ]
  },
  {
   "cell_type": "code",
   "execution_count": 5,
   "metadata": {
    "vscode": {
     "languageId": "r"
    }
   },
   "outputs": [
    {
     "data": {
      "text/plain": [
       "Generalized linear mixed model fit by maximum likelihood (Laplace\n",
       "  Approximation) [glmerMod]\n",
       " Family: binomial  ( logit )\n",
       "Formula: term_type ~ surprisal_z * frequency_z + (1 | term_group)\n",
       "   Data: df_llm\n",
       "\n",
       "     AIC      BIC   logLik deviance df.resid \n",
       "  2100.3   2136.7  -1045.2   2090.3    10724 \n",
       "\n",
       "Scaled residuals: \n",
       "    Min      1Q  Median      3Q     Max \n",
       " -267.1    -0.1     0.0     0.0 16979.7 \n",
       "\n",
       "Random effects:\n",
       " Groups     Name        Variance Std.Dev.\n",
       " term_group (Intercept) 11.59    3.404   \n",
       "Number of obs: 10729, groups:  term_group, 25\n",
       "\n",
       "Fixed effects:\n",
       "                        Estimate Std. Error z value Pr(>|z|)    \n",
       "(Intercept)             -3.76131    0.71145  -5.287 1.24e-07 ***\n",
       "surprisal_z             -1.50752    0.11833 -12.740  < 2e-16 ***\n",
       "frequency_z              0.07369    0.09311   0.791    0.429    \n",
       "surprisal_z:frequency_z  1.32925    0.10089  13.175  < 2e-16 ***\n",
       "---\n",
       "Signif. codes:  0 '***' 0.001 '**' 0.01 '*' 0.05 '.' 0.1 ' ' 1\n",
       "\n",
       "Correlation of Fixed Effects:\n",
       "            (Intr) srprs_ frqnc_\n",
       "surprisal_z 0.119               \n",
       "frequency_z 0.170  0.536        \n",
       "srprsl_z:f_ 0.012  0.709  0.351 "
      ]
     },
     "metadata": {},
     "output_type": "display_data"
    },
    {
     "name": "stderr",
     "output_type": "stream",
     "text": [
      "Warning message:\n",
      "\"the null model is only correct if all the variables it uses are identical \n",
      "to those used in fitting the original model.\"\n"
     ]
    },
    {
     "data": {
      "text/html": [
       "<table class=\"dataframe\">\n",
       "<caption>A matrix: 2 x 2 of type dbl</caption>\n",
       "<thead>\n",
       "\t<tr><th></th><th scope=col>R2m</th><th scope=col>R2c</th></tr>\n",
       "</thead>\n",
       "<tbody>\n",
       "\t<tr><th scope=row>theoretical</th><td>0.3205097</td><td>0.8497646</td></tr>\n",
       "\t<tr><th scope=row>delta</th><td>0.2858459</td><td>0.7578609</td></tr>\n",
       "</tbody>\n",
       "</table>\n"
      ],
      "text/latex": [
       "A matrix: 2 x 2 of type dbl\n",
       "\\begin{tabular}{r|ll}\n",
       "  & R2m & R2c\\\\\n",
       "\\hline\n",
       "\ttheoretical & 0.3205097 & 0.8497646\\\\\n",
       "\tdelta & 0.2858459 & 0.7578609\\\\\n",
       "\\end{tabular}\n"
      ],
      "text/markdown": [
       "\n",
       "A matrix: 2 x 2 of type dbl\n",
       "\n",
       "| <!--/--> | R2m | R2c |\n",
       "|---|---|---|\n",
       "| theoretical | 0.3205097 | 0.8497646 |\n",
       "| delta | 0.2858459 | 0.7578609 |\n",
       "\n"
      ],
      "text/plain": [
       "            R2m       R2c      \n",
       "theoretical 0.3205097 0.8497646\n",
       "delta       0.2858459 0.7578609"
      ]
     },
     "metadata": {},
     "output_type": "display_data"
    }
   ],
   "source": [
    "df_llm <- df[df$surprisal_type==\"llm\",]\n",
    "df_llm$frequency_z <- scale(df_llm$frequency)\n",
    "df_llm$surprisal_z <- scale(df_llm$surprisal)\n",
    "\n",
    "model_llm <- glmer(term_type ~ surprisal_z*frequency_z + (1 | term_group), data = df_llm, binomial)\n",
    "summary(model_llm)\n",
    "\n",
    "r.squaredGLMM(model_llm)"
   ]
  },
  {
   "cell_type": "code",
   "execution_count": 6,
   "metadata": {
    "vscode": {
     "languageId": "r"
    }
   },
   "outputs": [
    {
     "data": {
      "text/plain": [
       "Generalized linear mixed model fit by maximum likelihood (Laplace\n",
       "  Approximation) [glmerMod]\n",
       " Family: binomial  ( logit )\n",
       "Formula: term_type ~ surprisal_z * frequency_z + (1 | term_group)\n",
       "   Data: df_ngram\n",
       "\n",
       "     AIC      BIC   logLik deviance df.resid \n",
       "  5789.6   5826.0  -2889.8   5779.6    10724 \n",
       "\n",
       "Scaled residuals: \n",
       "    Min      1Q  Median      3Q     Max \n",
       "-2.7986 -0.2490 -0.1962 -0.1036 17.2537 \n",
       "\n",
       "Random effects:\n",
       " Groups     Name        Variance Std.Dev.\n",
       " term_group (Intercept) 3.706    1.925   \n",
       "Number of obs: 10729, groups:  term_group, 25\n",
       "\n",
       "Fixed effects:\n",
       "                        Estimate Std. Error z value Pr(>|z|)    \n",
       "(Intercept)             -1.15328    0.39457  -2.923  0.00347 ** \n",
       "surprisal_z              0.02402    0.03396   0.707  0.47941    \n",
       "frequency_z              0.85342    0.04808  17.749  < 2e-16 ***\n",
       "surprisal_z:frequency_z -0.02655    0.03132  -0.848  0.39654    \n",
       "---\n",
       "Signif. codes:  0 '***' 0.001 '**' 0.01 '*' 0.05 '.' 0.1 ' ' 1\n",
       "\n",
       "Correlation of Fixed Effects:\n",
       "            (Intr) srprs_ frqnc_\n",
       "surprisal_z -0.004              \n",
       "frequency_z  0.114 -0.019       \n",
       "srprsl_z:f_  0.003  0.133  0.005"
      ]
     },
     "metadata": {},
     "output_type": "display_data"
    },
    {
     "name": "stderr",
     "output_type": "stream",
     "text": [
      "Warning message:\n",
      "\"the null model is only correct if all the variables it uses are identical \n",
      "to those used in fitting the original model.\"\n"
     ]
    },
    {
     "data": {
      "text/html": [
       "<table class=\"dataframe\">\n",
       "<caption>A matrix: 2 x 2 of type dbl</caption>\n",
       "<thead>\n",
       "\t<tr><th></th><th scope=col>R2m</th><th scope=col>R2c</th></tr>\n",
       "</thead>\n",
       "<tbody>\n",
       "\t<tr><th scope=row>theoretical</th><td>0.09442353</td><td>0.5741664</td></tr>\n",
       "\t<tr><th scope=row>delta</th><td>0.07026998</td><td>0.4272946</td></tr>\n",
       "</tbody>\n",
       "</table>\n"
      ],
      "text/latex": [
       "A matrix: 2 x 2 of type dbl\n",
       "\\begin{tabular}{r|ll}\n",
       "  & R2m & R2c\\\\\n",
       "\\hline\n",
       "\ttheoretical & 0.09442353 & 0.5741664\\\\\n",
       "\tdelta & 0.07026998 & 0.4272946\\\\\n",
       "\\end{tabular}\n"
      ],
      "text/markdown": [
       "\n",
       "A matrix: 2 x 2 of type dbl\n",
       "\n",
       "| <!--/--> | R2m | R2c |\n",
       "|---|---|---|\n",
       "| theoretical | 0.09442353 | 0.5741664 |\n",
       "| delta | 0.07026998 | 0.4272946 |\n",
       "\n"
      ],
      "text/plain": [
       "            R2m        R2c      \n",
       "theoretical 0.09442353 0.5741664\n",
       "delta       0.07026998 0.4272946"
      ]
     },
     "metadata": {},
     "output_type": "display_data"
    }
   ],
   "source": [
    "df_ngram <- df[df$surprisal_type==\"ngram\",]\n",
    "df_ngram$frequency_z <- scale(df_ngram$frequency)\n",
    "df_ngram$surprisal_z <- scale(df_ngram$surprisal)\n",
    "\n",
    "model_ngram <- glmer(term_type ~ surprisal_z*frequency_z + (1 | term_group), data = df_ngram, binomial)\n",
    "summary(model_ngram)\n",
    "\n",
    "r.squaredGLMM(model_ngram)"
   ]
  },
  {
   "cell_type": "code",
   "execution_count": 19,
   "metadata": {
    "vscode": {
     "languageId": "r"
    }
   },
   "outputs": [
    {
     "data": {
      "text/html": [
       "<table class=\"dataframe\">\n",
       "<caption>A data.frame: 4 x 2</caption>\n",
       "<thead>\n",
       "\t<tr><th></th><th scope=col>df</th><th scope=col>AIC</th></tr>\n",
       "\t<tr><th></th><th scope=col>&lt;dbl&gt;</th><th scope=col>&lt;dbl&gt;</th></tr>\n",
       "</thead>\n",
       "<tbody>\n",
       "\t<tr><th scope=row>model_semantic</th><td>5</td><td> 654.4707</td></tr>\n",
       "\t<tr><th scope=row>model_pmcllama</th><td>5</td><td>2190.6855</td></tr>\n",
       "\t<tr><th scope=row>model_llm</th><td>5</td><td>2100.3251</td></tr>\n",
       "\t<tr><th scope=row>model_ngram</th><td>5</td><td>5789.6167</td></tr>\n",
       "</tbody>\n",
       "</table>\n"
      ],
      "text/latex": [
       "A data.frame: 4 x 2\n",
       "\\begin{tabular}{r|ll}\n",
       "  & df & AIC\\\\\n",
       "  & <dbl> & <dbl>\\\\\n",
       "\\hline\n",
       "\tmodel\\_semantic & 5 &  654.4707\\\\\n",
       "\tmodel\\_pmcllama & 5 & 2190.6855\\\\\n",
       "\tmodel\\_llm & 5 & 2100.3251\\\\\n",
       "\tmodel\\_ngram & 5 & 5789.6167\\\\\n",
       "\\end{tabular}\n"
      ],
      "text/markdown": [
       "\n",
       "A data.frame: 4 x 2\n",
       "\n",
       "| <!--/--> | df &lt;dbl&gt; | AIC &lt;dbl&gt; |\n",
       "|---|---|---|\n",
       "| model_semantic | 5 |  654.4707 |\n",
       "| model_pmcllama | 5 | 2190.6855 |\n",
       "| model_llm | 5 | 2100.3251 |\n",
       "| model_ngram | 5 | 5789.6167 |\n",
       "\n"
      ],
      "text/plain": [
       "               df AIC      \n",
       "model_semantic 5   654.4707\n",
       "model_pmcllama 5  2190.6855\n",
       "model_llm      5  2100.3251\n",
       "model_ngram    5  5789.6167"
      ]
     },
     "metadata": {},
     "output_type": "display_data"
    }
   ],
   "source": [
    "AIC(model_semantic, model_pmcllama, model_llm, model_ngram)"
   ]
  }
 ],
 "metadata": {
  "kernelspec": {
   "display_name": "R",
   "language": "R",
   "name": "ir"
  },
  "language_info": {
   "codemirror_mode": "r",
   "file_extension": ".r",
   "mimetype": "text/x-r-source",
   "name": "R",
   "pygments_lexer": "r",
   "version": "4.4.1"
  }
 },
 "nbformat": 4,
 "nbformat_minor": 2
}
