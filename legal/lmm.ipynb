{
 "cells": [
  {
   "cell_type": "code",
   "execution_count": 1,
   "metadata": {
    "vscode": {
     "languageId": "r"
    }
   },
   "outputs": [
    {
     "name": "stderr",
     "output_type": "stream",
     "text": [
      "Loading required package: Matrix\n",
      "\n",
      "\n",
      "Attaching package: ‘lmerTest’\n",
      "\n",
      "\n",
      "The following object is masked from ‘package:lme4’:\n",
      "\n",
      "    lmer\n",
      "\n",
      "\n",
      "The following object is masked from ‘package:stats’:\n",
      "\n",
      "    step\n",
      "\n",
      "\n",
      "\n",
      "Attaching package: ‘plotly’\n",
      "\n",
      "\n",
      "The following object is masked from ‘package:ggplot2’:\n",
      "\n",
      "    last_plot\n",
      "\n",
      "\n",
      "The following object is masked from ‘package:stats’:\n",
      "\n",
      "    filter\n",
      "\n",
      "\n",
      "The following object is masked from ‘package:graphics’:\n",
      "\n",
      "    layout\n",
      "\n",
      "\n",
      "Loading required package: nlme\n",
      "\n",
      "\n",
      "Attaching package: ‘nlme’\n",
      "\n",
      "\n",
      "The following object is masked from ‘package:lme4’:\n",
      "\n",
      "    lmList\n",
      "\n",
      "\n",
      "This is mgcv 1.9-1. For overview type 'help(\"mgcv-package\")'.\n",
      "\n",
      "Loading required package: carData\n",
      "\n",
      "This is DHARMa 0.4.7. For overview type '?DHARMa'. For recent changes, type news(package = 'DHARMa')\n",
      "\n"
     ]
    }
   ],
   "source": [
    "library(lme4)\n",
    "library(lmerTest)\n",
    "library(ggplot2)\n",
    "library(plotly)\n",
    "library(parallel)\n",
    "library(MuMIn)\n",
    "library(mgcv)\n",
    "library(car)\n",
    "library(DHARMa)\n",
    "\n",
    "residual_test <- function(model){\n",
    "hist(residuals(model), main = \"Histogram of Residuals\", xlab = \"Residuals\")\n",
    "qqnorm(residuals(model))\n",
    "qqline(residuals(model), col = \"red\")\n",
    "# shapiro.test(residuals(model))\n",
    "ks.test(residuals(model), \"pnorm\", mean = mean(residuals(model)), sd = sd(residuals(model)))}\n",
    "\n",
    "get_r2 <- function(model, data){\n",
    "  yhat <- predict(model, type = \"response\")\n",
    "  r2_tjur <- mean(yhat[data$term_type  == \"usual\"]) - mean(yhat[data$term_type  == \"legal\"])\n",
    "  print(r2_tjur)\n",
    "}"
   ]
  },
  {
   "cell_type": "code",
   "execution_count": null,
   "metadata": {
    "vscode": {
     "languageId": "r"
    }
   },
   "outputs": [
    {
     "name": "stdout",
     "output_type": "stream",
     "text": [
      "      [,1]\n",
      "legal  0.5\n",
      "usual -0.5\n"
     ]
    }
   ],
   "source": [
    "df <- read.csv(\"results.csv\")\n",
    "df$term_type <- as.factor(df$term_type)\n",
    "contrasts(df$term_type) <- c(0.5, -0.5)\n",
    "print(contrasts(df$term_type))\n",
    "df$term_group <- as.factor(df$term_group)\n",
    "df$term <- as.factor(df$term)\n",
    "df$surprisal[is.infinite(df$surprisal)] <- NA\n",
    "df <- na.omit(df)"
   ]
  },
  {
   "cell_type": "code",
   "execution_count": null,
   "metadata": {
    "vscode": {
     "languageId": "r"
    }
   },
   "outputs": [
    {
     "data": {
      "text/plain": [
       "Generalized linear mixed model fit by maximum likelihood (Laplace\n",
       "  Approximation) [glmerMod]\n",
       " Family: binomial  ( logit )\n",
       "Formula: term_type ~ surprisal_z * frequency_z + (1 | term_group)\n",
       "   Data: df_semantic\n",
       "\n",
       "     AIC      BIC   logLik deviance df.resid \n",
       "  6164.8   6200.3  -3077.4   6154.8     8995 \n",
       "\n",
       "Scaled residuals: \n",
       "    Min      1Q  Median      3Q     Max \n",
       "-1.7582 -0.5022 -0.1085  0.4259 18.9649 \n",
       "\n",
       "Random effects:\n",
       " Groups     Name        Variance Std.Dev.\n",
       " term_group (Intercept) 9.791    3.129   \n",
       "Number of obs: 9000, groups:  term_group, 19\n",
       "\n",
       "Fixed effects:\n",
       "                        Estimate Std. Error z value Pr(>|z|)    \n",
       "(Intercept)              -0.8897     1.1694  -0.761    0.447    \n",
       "surprisal_z               4.3673     0.4722   9.250   <2e-16 ***\n",
       "frequency_z               1.4215     0.1138  12.495   <2e-16 ***\n",
       "surprisal_z:frequency_z   3.1432     0.1613  19.488   <2e-16 ***\n",
       "---\n",
       "Signif. codes:  0 '***' 0.001 '**' 0.01 '*' 0.05 '.' 0.1 ' ' 1\n",
       "\n",
       "Correlation of Fixed Effects:\n",
       "            (Intr) srprs_ frqnc_\n",
       "surprisal_z -0.687              \n",
       "frequency_z  0.031  0.361       \n",
       "srprsl_z:f_  0.018  0.430  0.805"
      ]
     },
     "metadata": {},
     "output_type": "display_data"
    },
    {
     "name": "stderr",
     "output_type": "stream",
     "text": [
      "Warning message:\n",
      "\"the null model is only correct if all the variables it uses are identical \n",
      "to those used in fitting the original model.\"\n"
     ]
    },
    {
     "data": {
      "text/html": [
       "<table class=\"dataframe\">\n",
       "<caption>A matrix: 2 x 2 of type dbl</caption>\n",
       "<thead>\n",
       "\t<tr><th></th><th scope=col>R2m</th><th scope=col>R2c</th></tr>\n",
       "</thead>\n",
       "<tbody>\n",
       "\t<tr><th scope=row>theoretical</th><td>0.3885371</td><td>0.8462100</td></tr>\n",
       "\t<tr><th scope=row>delta</th><td>0.3759779</td><td>0.8188569</td></tr>\n",
       "</tbody>\n",
       "</table>\n"
      ],
      "text/latex": [
       "A matrix: 2 x 2 of type dbl\n",
       "\\begin{tabular}{r|ll}\n",
       "  & R2m & R2c\\\\\n",
       "\\hline\n",
       "\ttheoretical & 0.3885371 & 0.8462100\\\\\n",
       "\tdelta & 0.3759779 & 0.8188569\\\\\n",
       "\\end{tabular}\n"
      ],
      "text/markdown": [
       "\n",
       "A matrix: 2 x 2 of type dbl\n",
       "\n",
       "| <!--/--> | R2m | R2c |\n",
       "|---|---|---|\n",
       "| theoretical | 0.3885371 | 0.8462100 |\n",
       "| delta | 0.3759779 | 0.8188569 |\n",
       "\n"
      ],
      "text/plain": [
       "            R2m       R2c      \n",
       "theoretical 0.3885371 0.8462100\n",
       "delta       0.3759779 0.8188569"
      ]
     },
     "metadata": {},
     "output_type": "display_data"
    }
   ],
   "source": [
    "df_semantic <- df[df$surprisal_type==\"semantic\",]\n",
    "df_semantic$frequency_z <- scale(df_semantic$frequency)\n",
    "df_semantic$surprisal_z <- scale(df_semantic$surprisal)\n",
    "\n",
    "model_semantic <- glmer(term_type ~ surprisal_z*frequency_z + (1 | term_group), data = df_semantic, binomial)\n",
    "summary(model_semantic)\n",
    "\n",
    "r.squaredGLMM(model_semantic)"
   ]
  },
  {
   "cell_type": "code",
   "execution_count": null,
   "metadata": {
    "vscode": {
     "languageId": "r"
    }
   },
   "outputs": [
    {
     "data": {
      "text/plain": [
       "Generalized linear mixed model fit by maximum likelihood (Laplace\n",
       "  Approximation) [glmerMod]\n",
       " Family: binomial  ( logit )\n",
       "Formula: term_type ~ surprisal_z * frequency_z + (1 | term_group)\n",
       "   Data: df_llm\n",
       "\n",
       "     AIC      BIC   logLik deviance df.resid \n",
       "  6185.4   6221.0  -3087.7   6175.4     8995 \n",
       "\n",
       "Scaled residuals: \n",
       "    Min      1Q  Median      3Q     Max \n",
       "-6.0277 -0.4164 -0.1554  0.3966 17.3034 \n",
       "\n",
       "Random effects:\n",
       " Groups     Name        Variance Std.Dev.\n",
       " term_group (Intercept) 12.24    3.499   \n",
       "Number of obs: 9000, groups:  term_group, 19\n",
       "\n",
       "Fixed effects:\n",
       "                        Estimate Std. Error z value Pr(>|z|)    \n",
       "(Intercept)              0.35985    0.83229   0.432    0.665    \n",
       "surprisal_z              0.11318    0.05086   2.226    0.026 *  \n",
       "frequency_z             -0.69461    0.05462 -12.717   <2e-16 ***\n",
       "surprisal_z:frequency_z  1.12864    0.05864  19.246   <2e-16 ***\n",
       "---\n",
       "Signif. codes:  0 '***' 0.001 '**' 0.01 '*' 0.05 '.' 0.1 ' ' 1\n",
       "\n",
       "Correlation of Fixed Effects:\n",
       "            (Intr) srprs_ frqnc_\n",
       "surprisal_z -0.049              \n",
       "frequency_z  0.058 -0.349       \n",
       "srprsl_z:f_  0.042  0.394 -0.238"
      ]
     },
     "metadata": {},
     "output_type": "display_data"
    },
    {
     "name": "stderr",
     "output_type": "stream",
     "text": [
      "Warning message:\n",
      "\"the null model is only correct if all the variables it uses are identical \n",
      "to those used in fitting the original model.\"\n"
     ]
    },
    {
     "data": {
      "text/html": [
       "<table class=\"dataframe\">\n",
       "<caption>A matrix: 2 x 2 of type dbl</caption>\n",
       "<thead>\n",
       "\t<tr><th></th><th scope=col>R2m</th><th scope=col>R2c</th></tr>\n",
       "</thead>\n",
       "<tbody>\n",
       "\t<tr><th scope=row>theoretical</th><td>0.1077864</td><td>0.8110231</td></tr>\n",
       "\t<tr><th scope=row>delta</th><td>0.1035366</td><td>0.7790458</td></tr>\n",
       "</tbody>\n",
       "</table>\n"
      ],
      "text/latex": [
       "A matrix: 2 x 2 of type dbl\n",
       "\\begin{tabular}{r|ll}\n",
       "  & R2m & R2c\\\\\n",
       "\\hline\n",
       "\ttheoretical & 0.1077864 & 0.8110231\\\\\n",
       "\tdelta & 0.1035366 & 0.7790458\\\\\n",
       "\\end{tabular}\n"
      ],
      "text/markdown": [
       "\n",
       "A matrix: 2 x 2 of type dbl\n",
       "\n",
       "| <!--/--> | R2m | R2c |\n",
       "|---|---|---|\n",
       "| theoretical | 0.1077864 | 0.8110231 |\n",
       "| delta | 0.1035366 | 0.7790458 |\n",
       "\n"
      ],
      "text/plain": [
       "            R2m       R2c      \n",
       "theoretical 0.1077864 0.8110231\n",
       "delta       0.1035366 0.7790458"
      ]
     },
     "metadata": {},
     "output_type": "display_data"
    }
   ],
   "source": [
    "df_llm <- df[df$surprisal_type==\"llm\",]\n",
    "df_llm$frequency_z <- scale(df_llm$frequency)\n",
    "df_llm$surprisal_z <- scale(df_llm$surprisal)\n",
    "\n",
    "model_llm <- glmer(term_type ~ surprisal_z*frequency_z + (1 | term_group), data = df_llm, binomial)\n",
    "summary(model_llm)\n",
    "\n",
    "r.squaredGLMM(model_llm)"
   ]
  },
  {
   "cell_type": "code",
   "execution_count": null,
   "metadata": {
    "vscode": {
     "languageId": "r"
    }
   },
   "outputs": [
    {
     "data": {
      "text/plain": [
       "Generalized linear mixed model fit by maximum likelihood (Laplace\n",
       "  Approximation) [glmerMod]\n",
       " Family: binomial  ( logit )\n",
       "Formula: term_type ~ surprisal_z * frequency_z + (1 | term_group)\n",
       "   Data: df_ngram\n",
       "\n",
       "     AIC      BIC   logLik deviance df.resid \n",
       "  6623.2   6658.8  -3306.6   6613.2     8995 \n",
       "\n",
       "Scaled residuals: \n",
       "    Min      1Q  Median      3Q     Max \n",
       "-3.1636 -0.4346 -0.2101  0.5208  6.8900 \n",
       "\n",
       "Random effects:\n",
       " Groups     Name        Variance Std.Dev.\n",
       " term_group (Intercept) 7.646    2.765   \n",
       "Number of obs: 9000, groups:  term_group, 19\n",
       "\n",
       "Fixed effects:\n",
       "                        Estimate Std. Error z value Pr(>|z|)    \n",
       "(Intercept)             -0.74839    0.65561  -1.142  0.25365    \n",
       "surprisal_z             -0.05625    0.03405  -1.652  0.09859 .  \n",
       "frequency_z             -0.73557    0.04873 -15.095  < 2e-16 ***\n",
       "surprisal_z:frequency_z  0.12628    0.03969   3.182  0.00146 ** \n",
       "---\n",
       "Signif. codes:  0 '***' 0.001 '**' 0.01 '*' 0.05 '.' 0.1 ' ' 1\n",
       "\n",
       "Correlation of Fixed Effects:\n",
       "            (Intr) srprs_ frqnc_\n",
       "surprisal_z -0.014              \n",
       "frequency_z  0.062 -0.056       \n",
       "srprsl_z:f_  0.017  0.205  0.036"
      ]
     },
     "metadata": {},
     "output_type": "display_data"
    },
    {
     "name": "stderr",
     "output_type": "stream",
     "text": [
      "Warning message:\n",
      "\"the null model is only correct if all the variables it uses are identical \n",
      "to those used in fitting the original model.\"\n"
     ]
    },
    {
     "data": {
      "text/html": [
       "<table class=\"dataframe\">\n",
       "<caption>A matrix: 2 x 2 of type dbl</caption>\n",
       "<thead>\n",
       "\t<tr><th></th><th scope=col>R2m</th><th scope=col>R2c</th></tr>\n",
       "</thead>\n",
       "<tbody>\n",
       "\t<tr><th scope=row>theoretical</th><td>0.04922544</td><td>0.7139857</td></tr>\n",
       "\t<tr><th scope=row>delta</th><td>0.04634623</td><td>0.6722245</td></tr>\n",
       "</tbody>\n",
       "</table>\n"
      ],
      "text/latex": [
       "A matrix: 2 x 2 of type dbl\n",
       "\\begin{tabular}{r|ll}\n",
       "  & R2m & R2c\\\\\n",
       "\\hline\n",
       "\ttheoretical & 0.04922544 & 0.7139857\\\\\n",
       "\tdelta & 0.04634623 & 0.6722245\\\\\n",
       "\\end{tabular}\n"
      ],
      "text/markdown": [
       "\n",
       "A matrix: 2 x 2 of type dbl\n",
       "\n",
       "| <!--/--> | R2m | R2c |\n",
       "|---|---|---|\n",
       "| theoretical | 0.04922544 | 0.7139857 |\n",
       "| delta | 0.04634623 | 0.6722245 |\n",
       "\n"
      ],
      "text/plain": [
       "            R2m        R2c      \n",
       "theoretical 0.04922544 0.7139857\n",
       "delta       0.04634623 0.6722245"
      ]
     },
     "metadata": {},
     "output_type": "display_data"
    }
   ],
   "source": [
    "df_ngram <- df[df$surprisal_type==\"ngram\",]\n",
    "df_ngram$frequency_z <- scale(df_ngram$frequency)\n",
    "df_ngram$surprisal_z <- scale(df_ngram$surprisal)\n",
    "\n",
    "model_ngram <- glmer(term_type ~ surprisal_z*frequency_z + (1 | term_group), data = df_ngram, binomial)\n",
    "summary(model_ngram)\n",
    "\n",
    "r.squaredGLMM(model_ngram)"
   ]
  },
  {
   "cell_type": "code",
   "execution_count": null,
   "metadata": {
    "vscode": {
     "languageId": "r"
    }
   },
   "outputs": [
    {
     "data": {
      "text/html": [
       "<table class=\"dataframe\">\n",
       "<caption>A data.frame: 3 x 2</caption>\n",
       "<thead>\n",
       "\t<tr><th></th><th scope=col>df</th><th scope=col>AIC</th></tr>\n",
       "\t<tr><th></th><th scope=col>&lt;dbl&gt;</th><th scope=col>&lt;dbl&gt;</th></tr>\n",
       "</thead>\n",
       "<tbody>\n",
       "\t<tr><th scope=row>model_semantic</th><td>5</td><td>6164.793</td></tr>\n",
       "\t<tr><th scope=row>model_llm</th><td>5</td><td>6185.447</td></tr>\n",
       "\t<tr><th scope=row>model_ngram</th><td>5</td><td>6623.236</td></tr>\n",
       "</tbody>\n",
       "</table>\n"
      ],
      "text/latex": [
       "A data.frame: 3 x 2\n",
       "\\begin{tabular}{r|ll}\n",
       "  & df & AIC\\\\\n",
       "  & <dbl> & <dbl>\\\\\n",
       "\\hline\n",
       "\tmodel\\_semantic & 5 & 6164.793\\\\\n",
       "\tmodel\\_llm & 5 & 6185.447\\\\\n",
       "\tmodel\\_ngram & 5 & 6623.236\\\\\n",
       "\\end{tabular}\n"
      ],
      "text/markdown": [
       "\n",
       "A data.frame: 3 x 2\n",
       "\n",
       "| <!--/--> | df &lt;dbl&gt; | AIC &lt;dbl&gt; |\n",
       "|---|---|---|\n",
       "| model_semantic | 5 | 6164.793 |\n",
       "| model_llm | 5 | 6185.447 |\n",
       "| model_ngram | 5 | 6623.236 |\n",
       "\n"
      ],
      "text/plain": [
       "               df AIC     \n",
       "model_semantic 5  6164.793\n",
       "model_llm      5  6185.447\n",
       "model_ngram    5  6623.236"
      ]
     },
     "metadata": {},
     "output_type": "display_data"
    }
   ],
   "source": [
    "AIC(model_semantic, model_llm, model_ngram)"
   ]
  }
 ],
 "metadata": {
  "kernelspec": {
   "display_name": "R",
   "language": "R",
   "name": "ir"
  },
  "language_info": {
   "codemirror_mode": "r",
   "file_extension": ".r",
   "mimetype": "text/x-r-source",
   "name": "R",
   "pygments_lexer": "r",
   "version": "4.4.1"
  }
 },
 "nbformat": 4,
 "nbformat_minor": 2
}
